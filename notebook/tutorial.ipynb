{
 "cells": [
  {
   "cell_type": "code",
   "execution_count": null,
   "metadata": {},
   "outputs": [],
   "source": [
    "# the pyngsi framework"
   ]
  },
  {
   "cell_type": "code",
   "execution_count": null,
   "metadata": {},
   "outputs": [],
   "source": []
  },
  {
   "cell_type": "code",
   "execution_count": 1,
   "metadata": {},
   "outputs": [
    {
     "name": "stdout",
     "output_type": "stream",
     "text": [
      "Row(provider='user', record=1)\n",
      "Row(provider='user', record=2)\n",
      "Row(provider='user', record=3)\n"
     ]
    }
   ],
   "source": [
    "from pyngsi.source import *\n",
    "\n",
    "src = SourceIter([1,2,3])\n",
    "for row in src:\n",
    "    print(row)"
   ]
  },
  {
   "cell_type": "code",
   "execution_count": 3,
   "metadata": {},
   "outputs": [
    {
     "name": "stdout",
     "output_type": "stream",
     "text": [
      "Help on class SourceIter in module pyngsi.source:\n",
      "\n",
      "class SourceIter(Source)\n",
      " |  SourceIter(rows: List[str], provider: str = 'user')\n",
      " |  \n",
      " |  A SourceList is Source built from a Python list.\n",
      " |  \n",
      " |  Method resolution order:\n",
      " |      SourceIter\n",
      " |      Source\n",
      " |      collections.abc.Iterable\n",
      " |      builtins.object\n",
      " |  \n",
      " |  Methods defined here:\n",
      " |  \n",
      " |  __init__(self, rows: List[str], provider: str = 'user')\n",
      " |      Initialize self.  See help(type(self)) for accurate signature.\n",
      " |  \n",
      " |  __iter__(self)\n",
      " |  \n",
      " |  reset(self)\n",
      " |  \n",
      " |  ----------------------------------------------------------------------\n",
      " |  Data and other attributes defined here:\n",
      " |  \n",
      " |  __abstractmethods__ = frozenset()\n",
      " |  \n",
      " |  ----------------------------------------------------------------------\n",
      " |  Methods inherited from Source:\n",
      " |  \n",
      " |  first(self) -> pyngsi.source.Row\n",
      " |      return the first element\n",
      " |  \n",
      " |  head(self, n: int = 10) -> List[pyngsi.source.Row]\n",
      " |      return a list built from the first n elements\n",
      " |  \n",
      " |  limit(self, n: int = 10)\n",
      " |      return a generator limited to the first n elements\n",
      " |  \n",
      " |  skip_header(self, lines: int = 1)\n",
      " |      skip n lines, default is to skip only the first line\n",
      " |  \n",
      " |  ----------------------------------------------------------------------\n",
      " |  Class methods inherited from Source:\n",
      " |  \n",
      " |  create_source_from_file(filename: str, provider: str = None) from abc.ABCMeta\n",
      " |      automatically create the Source from a filename, figuring out the extension, handles text, json and gzip compression\n",
      " |  \n",
      " |  ----------------------------------------------------------------------\n",
      " |  Data descriptors inherited from Source:\n",
      " |  \n",
      " |  __dict__\n",
      " |      dictionary for instance variables (if defined)\n",
      " |  \n",
      " |  __weakref__\n",
      " |      list of weak references to the object (if defined)\n",
      " |  \n",
      " |  ----------------------------------------------------------------------\n",
      " |  Class methods inherited from collections.abc.Iterable:\n",
      " |  \n",
      " |  __subclasshook__(C) from abc.ABCMeta\n",
      " |      Abstract classes can override this to customize issubclass().\n",
      " |      \n",
      " |      This is invoked early on by abc.ABCMeta.__subclasscheck__().\n",
      " |      It should return True, False or NotImplemented.  If it returns\n",
      " |      NotImplemented, the normal algorithm is used.  Otherwise, it\n",
      " |      overrides the normal algorithm (and the outcome is cached).\n",
      "\n"
     ]
    }
   ],
   "source": [
    "help(SourceIter)"
   ]
  },
  {
   "cell_type": "code",
   "execution_count": null,
   "metadata": {},
   "outputs": [],
   "source": []
  }
 ],
 "metadata": {
  "kernelspec": {
   "display_name": "python38",
   "language": "python",
   "name": "python38"
  },
  "language_info": {
   "codemirror_mode": {
    "name": "ipython",
    "version": 3
   },
   "file_extension": ".py",
   "mimetype": "text/x-python",
   "name": "python",
   "nbconvert_exporter": "python",
   "pygments_lexer": "ipython3",
   "version": "3.8.2"
  }
 },
 "nbformat": 4,
 "nbformat_minor": 4
}
